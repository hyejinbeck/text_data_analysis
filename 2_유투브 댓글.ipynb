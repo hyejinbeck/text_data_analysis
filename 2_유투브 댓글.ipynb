{
 "cells": [
  {
   "cell_type": "markdown",
   "id": "af895b65-ff2a-49cc-a75d-f6152069e149",
   "metadata": {},
   "source": [
    "# 환경셋팅"
   ]
  },
  {
   "cell_type": "code",
   "execution_count": 9,
   "id": "99effa03-5179-4f5f-9a60-5530dc93b3a6",
   "metadata": {},
   "outputs": [],
   "source": [
    "import pandas as pd\n",
    "\n",
    "# !pip install selenium          # selenium 라이브러리 설치\n",
    "from selenium import webdriver\n",
    "from selenium.common.exceptions import WebDriverException as WDE\n",
    "from selenium.webdriver.chrome.service import Service\n",
    "from selenium.webdriver.chrome.options import Options\n",
    "options = Options()\n",
    "from selenium.webdriver.common.keys import Keys\n",
    "from selenium.webdriver.common.by import By\n",
    "from tqdm.notebook import tqdm\n",
    "\n",
    "import requests\n",
    "from bs4 import BeautifulSoup\n",
    "import time\n",
    "\n",
    "import re\n",
    "import warnings\n",
    "warnings.filterwarnings(\"ignore\")"
   ]
  },
  {
   "cell_type": "code",
   "execution_count": 11,
   "id": "2d23f596-8e0d-450c-95ae-1542f742ad1b",
   "metadata": {},
   "outputs": [],
   "source": [
    "# 접속 url\n",
    "url = \"https://youtube.com/\"\n",
    "\n",
    "# 검색 키워드\n",
    "keyword = \"강제추행\"\n",
    "\n",
    "# 스크롤을 어디까지 내리는지 기준 \n",
    "finish_line = 10000"
   ]
  },
  {
   "cell_type": "code",
   "execution_count": null,
   "id": "99ae7bb3-ebac-41ea-9742-df937556010e",
   "metadata": {},
   "outputs": [],
   "source": [
    "path = './chromedriver-mac-arm64/chromedriver'\n",
    "browser = webdriver.Chrome(path)\n",
    "browser.m"
   ]
  },
  {
   "cell_type": "code",
   "execution_count": 10,
   "id": "f4319eef-76dc-41a0-9295-59821de9a690",
   "metadata": {},
   "outputs": [
    {
     "ename": "SessionNotCreatedException",
     "evalue": "Message: session not created: probably user data directory is already in use, please specify a unique value for --user-data-dir argument, or don't use --user-data-dir\nStacktrace:\n0   chromedriver                        0x0000000102fe2a54 cxxbridge1$str$ptr + 2803960\n1   chromedriver                        0x0000000102fdacf0 cxxbridge1$str$ptr + 2771860\n2   chromedriver                        0x0000000102b26864 cxxbridge1$string$len + 93028\n3   chromedriver                        0x0000000102b59578 cxxbridge1$string$len + 301176\n4   chromedriver                        0x0000000102b55ce4 cxxbridge1$string$len + 286692\n5   chromedriver                        0x0000000102b9a820 cxxbridge1$string$len + 568096\n6   chromedriver                        0x0000000102b9a090 cxxbridge1$string$len + 566160\n7   chromedriver                        0x0000000102b617ec cxxbridge1$string$len + 334572\n8   chromedriver                        0x0000000102fa7ccc cxxbridge1$str$ptr + 2562928\n9   chromedriver                        0x0000000102faaf98 cxxbridge1$str$ptr + 2575932\n10  chromedriver                        0x0000000102f882c4 cxxbridge1$str$ptr + 2433384\n11  chromedriver                        0x0000000102fab810 cxxbridge1$str$ptr + 2578100\n12  chromedriver                        0x0000000102f792f0 cxxbridge1$str$ptr + 2371988\n13  chromedriver                        0x0000000102fcb57c cxxbridge1$str$ptr + 2708512\n14  chromedriver                        0x0000000102fcb708 cxxbridge1$str$ptr + 2708908\n15  chromedriver                        0x0000000102fda93c cxxbridge1$str$ptr + 2770912\n16  libsystem_pthread.dylib             0x00000001a11ca06c _pthread_start + 148\n17  libsystem_pthread.dylib             0x00000001a11c4e2c thread_start + 8\n",
     "output_type": "error",
     "traceback": [
      "\u001b[0;31m---------------------------------------------------------------------------\u001b[0m",
      "\u001b[0;31mSessionNotCreatedException\u001b[0m                Traceback (most recent call last)",
      "Cell \u001b[0;32mIn[10], line 12\u001b[0m\n\u001b[1;32m     10\u001b[0m \u001b[38;5;66;03m# 서비스 및 드라이버 설정\u001b[39;00m\n\u001b[1;32m     11\u001b[0m service \u001b[38;5;241m=\u001b[39m Service(executable_path\u001b[38;5;241m=\u001b[39m\u001b[38;5;124m'\u001b[39m\u001b[38;5;124m./chromedriver-mac-arm64/chromedriver\u001b[39m\u001b[38;5;124m'\u001b[39m)\n\u001b[0;32m---> 12\u001b[0m driver \u001b[38;5;241m=\u001b[39m \u001b[43mwebdriver\u001b[49m\u001b[38;5;241;43m.\u001b[39;49m\u001b[43mChrome\u001b[49m\u001b[43m(\u001b[49m\u001b[43mservice\u001b[49m\u001b[38;5;241;43m=\u001b[39;49m\u001b[43mservice\u001b[49m\u001b[43m,\u001b[49m\u001b[43m \u001b[49m\u001b[43moptions\u001b[49m\u001b[38;5;241;43m=\u001b[39;49m\u001b[43moptions\u001b[49m\u001b[43m)\u001b[49m\n\u001b[1;32m     14\u001b[0m \u001b[38;5;66;03m# 페이지 열기\u001b[39;00m\n\u001b[1;32m     15\u001b[0m driver\u001b[38;5;241m.\u001b[39mget(url\u001b[38;5;241m.\u001b[39mformat(\u001b[38;5;241m1\u001b[39m))\n",
      "File \u001b[0;32m~/.pyenv/versions/3.10.11/lib/python3.10/site-packages/selenium/webdriver/chrome/webdriver.py:45\u001b[0m, in \u001b[0;36mWebDriver.__init__\u001b[0;34m(self, options, service, keep_alive)\u001b[0m\n\u001b[1;32m     42\u001b[0m service \u001b[38;5;241m=\u001b[39m service \u001b[38;5;28;01mif\u001b[39;00m service \u001b[38;5;28;01melse\u001b[39;00m Service()\n\u001b[1;32m     43\u001b[0m options \u001b[38;5;241m=\u001b[39m options \u001b[38;5;28;01mif\u001b[39;00m options \u001b[38;5;28;01melse\u001b[39;00m Options()\n\u001b[0;32m---> 45\u001b[0m \u001b[38;5;28;43msuper\u001b[39;49m\u001b[43m(\u001b[49m\u001b[43m)\u001b[49m\u001b[38;5;241;43m.\u001b[39;49m\u001b[38;5;21;43m__init__\u001b[39;49m\u001b[43m(\u001b[49m\n\u001b[1;32m     46\u001b[0m \u001b[43m    \u001b[49m\u001b[43mbrowser_name\u001b[49m\u001b[38;5;241;43m=\u001b[39;49m\u001b[43mDesiredCapabilities\u001b[49m\u001b[38;5;241;43m.\u001b[39;49m\u001b[43mCHROME\u001b[49m\u001b[43m[\u001b[49m\u001b[38;5;124;43m\"\u001b[39;49m\u001b[38;5;124;43mbrowserName\u001b[39;49m\u001b[38;5;124;43m\"\u001b[39;49m\u001b[43m]\u001b[49m\u001b[43m,\u001b[49m\n\u001b[1;32m     47\u001b[0m \u001b[43m    \u001b[49m\u001b[43mvendor_prefix\u001b[49m\u001b[38;5;241;43m=\u001b[39;49m\u001b[38;5;124;43m\"\u001b[39;49m\u001b[38;5;124;43mgoog\u001b[39;49m\u001b[38;5;124;43m\"\u001b[39;49m\u001b[43m,\u001b[49m\n\u001b[1;32m     48\u001b[0m \u001b[43m    \u001b[49m\u001b[43moptions\u001b[49m\u001b[38;5;241;43m=\u001b[39;49m\u001b[43moptions\u001b[49m\u001b[43m,\u001b[49m\n\u001b[1;32m     49\u001b[0m \u001b[43m    \u001b[49m\u001b[43mservice\u001b[49m\u001b[38;5;241;43m=\u001b[39;49m\u001b[43mservice\u001b[49m\u001b[43m,\u001b[49m\n\u001b[1;32m     50\u001b[0m \u001b[43m    \u001b[49m\u001b[43mkeep_alive\u001b[49m\u001b[38;5;241;43m=\u001b[39;49m\u001b[43mkeep_alive\u001b[49m\u001b[43m,\u001b[49m\n\u001b[1;32m     51\u001b[0m \u001b[43m\u001b[49m\u001b[43m)\u001b[49m\n",
      "File \u001b[0;32m~/.pyenv/versions/3.10.11/lib/python3.10/site-packages/selenium/webdriver/chromium/webdriver.py:66\u001b[0m, in \u001b[0;36mChromiumDriver.__init__\u001b[0;34m(self, browser_name, vendor_prefix, options, service, keep_alive)\u001b[0m\n\u001b[1;32m     57\u001b[0m executor \u001b[38;5;241m=\u001b[39m ChromiumRemoteConnection(\n\u001b[1;32m     58\u001b[0m     remote_server_addr\u001b[38;5;241m=\u001b[39m\u001b[38;5;28mself\u001b[39m\u001b[38;5;241m.\u001b[39mservice\u001b[38;5;241m.\u001b[39mservice_url,\n\u001b[1;32m     59\u001b[0m     browser_name\u001b[38;5;241m=\u001b[39mbrowser_name,\n\u001b[0;32m   (...)\u001b[0m\n\u001b[1;32m     62\u001b[0m     ignore_proxy\u001b[38;5;241m=\u001b[39moptions\u001b[38;5;241m.\u001b[39m_ignore_local_proxy,\n\u001b[1;32m     63\u001b[0m )\n\u001b[1;32m     65\u001b[0m \u001b[38;5;28;01mtry\u001b[39;00m:\n\u001b[0;32m---> 66\u001b[0m     \u001b[38;5;28;43msuper\u001b[39;49m\u001b[43m(\u001b[49m\u001b[43m)\u001b[49m\u001b[38;5;241;43m.\u001b[39;49m\u001b[38;5;21;43m__init__\u001b[39;49m\u001b[43m(\u001b[49m\u001b[43mcommand_executor\u001b[49m\u001b[38;5;241;43m=\u001b[39;49m\u001b[43mexecutor\u001b[49m\u001b[43m,\u001b[49m\u001b[43m \u001b[49m\u001b[43moptions\u001b[49m\u001b[38;5;241;43m=\u001b[39;49m\u001b[43moptions\u001b[49m\u001b[43m)\u001b[49m\n\u001b[1;32m     67\u001b[0m \u001b[38;5;28;01mexcept\u001b[39;00m \u001b[38;5;167;01mException\u001b[39;00m:\n\u001b[1;32m     68\u001b[0m     \u001b[38;5;28mself\u001b[39m\u001b[38;5;241m.\u001b[39mquit()\n",
      "File \u001b[0;32m~/.pyenv/versions/3.10.11/lib/python3.10/site-packages/selenium/webdriver/remote/webdriver.py:250\u001b[0m, in \u001b[0;36mWebDriver.__init__\u001b[0;34m(self, command_executor, keep_alive, file_detector, options, locator_converter, web_element_cls, client_config)\u001b[0m\n\u001b[1;32m    248\u001b[0m \u001b[38;5;28mself\u001b[39m\u001b[38;5;241m.\u001b[39m_authenticator_id \u001b[38;5;241m=\u001b[39m \u001b[38;5;28;01mNone\u001b[39;00m\n\u001b[1;32m    249\u001b[0m \u001b[38;5;28mself\u001b[39m\u001b[38;5;241m.\u001b[39mstart_client()\n\u001b[0;32m--> 250\u001b[0m \u001b[38;5;28;43mself\u001b[39;49m\u001b[38;5;241;43m.\u001b[39;49m\u001b[43mstart_session\u001b[49m\u001b[43m(\u001b[49m\u001b[43mcapabilities\u001b[49m\u001b[43m)\u001b[49m\n\u001b[1;32m    251\u001b[0m \u001b[38;5;28mself\u001b[39m\u001b[38;5;241m.\u001b[39m_fedcm \u001b[38;5;241m=\u001b[39m FedCM(\u001b[38;5;28mself\u001b[39m)\n\u001b[1;32m    253\u001b[0m \u001b[38;5;28mself\u001b[39m\u001b[38;5;241m.\u001b[39m_websocket_connection \u001b[38;5;241m=\u001b[39m \u001b[38;5;28;01mNone\u001b[39;00m\n",
      "File \u001b[0;32m~/.pyenv/versions/3.10.11/lib/python3.10/site-packages/selenium/webdriver/remote/webdriver.py:342\u001b[0m, in \u001b[0;36mWebDriver.start_session\u001b[0;34m(self, capabilities)\u001b[0m\n\u001b[1;32m    333\u001b[0m \u001b[38;5;250m\u001b[39m\u001b[38;5;124;03m\"\"\"Creates a new session with the desired capabilities.\u001b[39;00m\n\u001b[1;32m    334\u001b[0m \n\u001b[1;32m    335\u001b[0m \u001b[38;5;124;03mParameters:\u001b[39;00m\n\u001b[0;32m   (...)\u001b[0m\n\u001b[1;32m    338\u001b[0m \u001b[38;5;124;03m    - A capabilities dict to start the session with.\u001b[39;00m\n\u001b[1;32m    339\u001b[0m \u001b[38;5;124;03m\"\"\"\u001b[39;00m\n\u001b[1;32m    341\u001b[0m caps \u001b[38;5;241m=\u001b[39m _create_caps(capabilities)\n\u001b[0;32m--> 342\u001b[0m response \u001b[38;5;241m=\u001b[39m \u001b[38;5;28;43mself\u001b[39;49m\u001b[38;5;241;43m.\u001b[39;49m\u001b[43mexecute\u001b[49m\u001b[43m(\u001b[49m\u001b[43mCommand\u001b[49m\u001b[38;5;241;43m.\u001b[39;49m\u001b[43mNEW_SESSION\u001b[49m\u001b[43m,\u001b[49m\u001b[43m \u001b[49m\u001b[43mcaps\u001b[49m\u001b[43m)\u001b[49m[\u001b[38;5;124m\"\u001b[39m\u001b[38;5;124mvalue\u001b[39m\u001b[38;5;124m\"\u001b[39m]\n\u001b[1;32m    343\u001b[0m \u001b[38;5;28mself\u001b[39m\u001b[38;5;241m.\u001b[39msession_id \u001b[38;5;241m=\u001b[39m response\u001b[38;5;241m.\u001b[39mget(\u001b[38;5;124m\"\u001b[39m\u001b[38;5;124msessionId\u001b[39m\u001b[38;5;124m\"\u001b[39m)\n\u001b[1;32m    344\u001b[0m \u001b[38;5;28mself\u001b[39m\u001b[38;5;241m.\u001b[39mcaps \u001b[38;5;241m=\u001b[39m response\u001b[38;5;241m.\u001b[39mget(\u001b[38;5;124m\"\u001b[39m\u001b[38;5;124mcapabilities\u001b[39m\u001b[38;5;124m\"\u001b[39m)\n",
      "File \u001b[0;32m~/.pyenv/versions/3.10.11/lib/python3.10/site-packages/selenium/webdriver/remote/webdriver.py:429\u001b[0m, in \u001b[0;36mWebDriver.execute\u001b[0;34m(self, driver_command, params)\u001b[0m\n\u001b[1;32m    427\u001b[0m response \u001b[38;5;241m=\u001b[39m \u001b[38;5;28mself\u001b[39m\u001b[38;5;241m.\u001b[39mcommand_executor\u001b[38;5;241m.\u001b[39mexecute(driver_command, params)\n\u001b[1;32m    428\u001b[0m \u001b[38;5;28;01mif\u001b[39;00m response:\n\u001b[0;32m--> 429\u001b[0m     \u001b[38;5;28;43mself\u001b[39;49m\u001b[38;5;241;43m.\u001b[39;49m\u001b[43merror_handler\u001b[49m\u001b[38;5;241;43m.\u001b[39;49m\u001b[43mcheck_response\u001b[49m\u001b[43m(\u001b[49m\u001b[43mresponse\u001b[49m\u001b[43m)\u001b[49m\n\u001b[1;32m    430\u001b[0m     response[\u001b[38;5;124m\"\u001b[39m\u001b[38;5;124mvalue\u001b[39m\u001b[38;5;124m\"\u001b[39m] \u001b[38;5;241m=\u001b[39m \u001b[38;5;28mself\u001b[39m\u001b[38;5;241m.\u001b[39m_unwrap_value(response\u001b[38;5;241m.\u001b[39mget(\u001b[38;5;124m\"\u001b[39m\u001b[38;5;124mvalue\u001b[39m\u001b[38;5;124m\"\u001b[39m, \u001b[38;5;28;01mNone\u001b[39;00m))\n\u001b[1;32m    431\u001b[0m     \u001b[38;5;28;01mreturn\u001b[39;00m response\n",
      "File \u001b[0;32m~/.pyenv/versions/3.10.11/lib/python3.10/site-packages/selenium/webdriver/remote/errorhandler.py:232\u001b[0m, in \u001b[0;36mErrorHandler.check_response\u001b[0;34m(self, response)\u001b[0m\n\u001b[1;32m    230\u001b[0m         alert_text \u001b[38;5;241m=\u001b[39m value[\u001b[38;5;124m\"\u001b[39m\u001b[38;5;124malert\u001b[39m\u001b[38;5;124m\"\u001b[39m]\u001b[38;5;241m.\u001b[39mget(\u001b[38;5;124m\"\u001b[39m\u001b[38;5;124mtext\u001b[39m\u001b[38;5;124m\"\u001b[39m)\n\u001b[1;32m    231\u001b[0m     \u001b[38;5;28;01mraise\u001b[39;00m exception_class(message, screen, stacktrace, alert_text)  \u001b[38;5;66;03m# type: ignore[call-arg]  # mypy is not smart enough here\u001b[39;00m\n\u001b[0;32m--> 232\u001b[0m \u001b[38;5;28;01mraise\u001b[39;00m exception_class(message, screen, stacktrace)\n",
      "\u001b[0;31mSessionNotCreatedException\u001b[0m: Message: session not created: probably user data directory is already in use, please specify a unique value for --user-data-dir argument, or don't use --user-data-dir\nStacktrace:\n0   chromedriver                        0x0000000102fe2a54 cxxbridge1$str$ptr + 2803960\n1   chromedriver                        0x0000000102fdacf0 cxxbridge1$str$ptr + 2771860\n2   chromedriver                        0x0000000102b26864 cxxbridge1$string$len + 93028\n3   chromedriver                        0x0000000102b59578 cxxbridge1$string$len + 301176\n4   chromedriver                        0x0000000102b55ce4 cxxbridge1$string$len + 286692\n5   chromedriver                        0x0000000102b9a820 cxxbridge1$string$len + 568096\n6   chromedriver                        0x0000000102b9a090 cxxbridge1$string$len + 566160\n7   chromedriver                        0x0000000102b617ec cxxbridge1$string$len + 334572\n8   chromedriver                        0x0000000102fa7ccc cxxbridge1$str$ptr + 2562928\n9   chromedriver                        0x0000000102faaf98 cxxbridge1$str$ptr + 2575932\n10  chromedriver                        0x0000000102f882c4 cxxbridge1$str$ptr + 2433384\n11  chromedriver                        0x0000000102fab810 cxxbridge1$str$ptr + 2578100\n12  chromedriver                        0x0000000102f792f0 cxxbridge1$str$ptr + 2371988\n13  chromedriver                        0x0000000102fcb57c cxxbridge1$str$ptr + 2708512\n14  chromedriver                        0x0000000102fcb708 cxxbridge1$str$ptr + 2708908\n15  chromedriver                        0x0000000102fda93c cxxbridge1$str$ptr + 2770912\n16  libsystem_pthread.dylib             0x00000001a11ca06c _pthread_start + 148\n17  libsystem_pthread.dylib             0x00000001a11c4e2c thread_start + 8\n"
     ]
    }
   ],
   "source": [
    "# 사용자 데이터 디렉토리 설정\n",
    "options.add_argument(\"--user-data-dir=/Users/beckhyejin/Library/Application Support/Google/Chrome/data_new_num35\")\n",
    "options.add_argument(\"--profile-directory=Default\")                                      #         ------- 종종 바꿔줘야 함 \n",
    "\n",
    "# 자동화된 소프트웨어 메시지 비활성화\n",
    "options.add_argument(\"--disable-extensions\")\n",
    "options.add_argument(\"--disable-infobars\")  # \"Chrome이 자동화된 테스트 소프트웨어에 의해 제어되고 있습니다\" 메시지 제거\n",
    "options.add_argument(\"--disable-popup-blocking\")\n",
    "\n",
    "# 서비스 및 드라이버 설정\n",
    "service = Service(executable_path='./chromedriver-mac-arm64/chromedriver')\n",
    "driver = webdriver.Chrome(service=service, options=options)\n",
    "\n",
    "# 페이지 열기\n",
    "driver.get(url.format(1))\n",
    "time.sleep(2) \n"
   ]
  },
  {
   "cell_type": "code",
   "execution_count": 4,
   "id": "ae61faf3-c453-4a0f-8c76-c2455862d1fb",
   "metadata": {},
   "outputs": [],
   "source": [
    "body = driver.find_element(By.CSS_SELECTOR, 'body')\n",
    "for down in range(20): \n",
    "    body.send_keys(Keys.PAGE_DOWN)\n",
    "    time.sleep(0.8)\n",
    "\n",
    "html = driver.page_source\n",
    "soup = BeautifulSoup(html, 'lxml')"
   ]
  },
  {
   "cell_type": "code",
   "execution_count": 5,
   "id": "8ae68bc9-f09c-4902-b2bc-5ff0ee1bd251",
   "metadata": {},
   "outputs": [],
   "source": [
    "# 가상의 웹 브라우저에서 화면을 내리는 동작을 함수로 만든다. \n",
    "\n",
    "def page_down(): \n",
    "    \"\"\"페이지 다운키 20번 입력\"\"\"\n",
    "    body = driver.find_element(By.CSS_SELECTOR, 'body') \n",
    "    for down in range(20) : \n",
    "        body.send_keys(Keys.PAGE_DOWN)\n",
    "        time.sleep(0.8)"
   ]
  },
  {
   "cell_type": "code",
   "execution_count": 7,
   "id": "c7283d8e-b148-4ed3-94d3-e559df2483e2",
   "metadata": {},
   "outputs": [
    {
     "data": {
      "text/plain": [
       "['https://kin.naver.com/qna/detail.naver?d1id=6&dirId=602060203&docId=483837698&enc=utf8&kinsrch_src=pc_tab_kin&qb=7J207Zi8',\n",
       " 'https://kin.naver.com/qna/detail.naver?d1id=6&dirId=602060203&docId=483837698&enc=utf8&kinsrch_src=pc_tab_kin&qb=7J207Zi8',\n",
       " 'https://kin.naver.com/qna/detail.naver?d1id=6&dirId=60204&docId=477744944&enc=utf8&kinsrch_src=pc_tab_kin&qb=7J207Zi8',\n",
       " 'https://kin.naver.com/qna/detail.naver?d1id=6&dirId=60204&docId=477744944&enc=utf8&kinsrch_src=pc_tab_kin&qb=7J207Zi8',\n",
       " 'https://kin.naver.com/qna/detail.naver?d1id=6&dirId=60204&docId=459997555&enc=utf8&kinsrch_src=pc_tab_kin&qb=7J207Zi8',\n",
       " 'https://kin.naver.com/qna/detail.naver?d1id=6&dirId=60204&docId=459997555&enc=utf8&kinsrch_src=pc_tab_kin&qb=7J207Zi8']"
      ]
     },
     "execution_count": 7,
     "metadata": {},
     "output_type": "execute_result"
    }
   ],
   "source": [
    "# 지식인 게시글 제목과 내용 태그 찾기 \n",
    "questions = []\n",
    "for ques in soup.select(\"a.link_question\"):\n",
    "    questions.append(ques['href'])\n",
    "\n",
    "# 결과 확인\n",
    "questions[:6]"
   ]
  },
  {
   "cell_type": "code",
   "execution_count": null,
   "id": "15c9bc30-1a4b-41d7-98b1-d05440238cc4",
   "metadata": {},
   "outputs": [],
   "source": []
  },
  {
   "cell_type": "code",
   "execution_count": null,
   "id": "9cbd1043-380d-4c89-b2fd-ffd88441eefa",
   "metadata": {},
   "outputs": [],
   "source": []
  },
  {
   "cell_type": "code",
   "execution_count": null,
   "id": "6401edf1-065b-4d26-9459-077e4c261d23",
   "metadata": {},
   "outputs": [],
   "source": []
  },
  {
   "cell_type": "code",
   "execution_count": null,
   "id": "379df68d-cc43-4398-9352-bc3eeae26e3d",
   "metadata": {},
   "outputs": [],
   "source": []
  },
  {
   "cell_type": "code",
   "execution_count": null,
   "id": "a5a23ed1-b8ae-4b70-906a-fe0fac8c0d27",
   "metadata": {},
   "outputs": [],
   "source": []
  },
  {
   "cell_type": "code",
   "execution_count": null,
   "id": "c38b7025-d800-4a80-8c04-c142560f4ccc",
   "metadata": {},
   "outputs": [],
   "source": []
  },
  {
   "cell_type": "code",
   "execution_count": null,
   "id": "38882509-83bc-418d-b76a-6ed19a4b36f7",
   "metadata": {},
   "outputs": [],
   "source": []
  },
  {
   "cell_type": "code",
   "execution_count": null,
   "id": "3c36153c-54b7-4eea-9582-b20f3747ab97",
   "metadata": {},
   "outputs": [],
   "source": []
  },
  {
   "cell_type": "code",
   "execution_count": null,
   "id": "97266699-7e92-484c-a5a9-5f665afb6ebd",
   "metadata": {},
   "outputs": [],
   "source": []
  },
  {
   "cell_type": "code",
   "execution_count": null,
   "id": "2474b8a0-737a-4bda-baef-708066b15f2f",
   "metadata": {},
   "outputs": [],
   "source": []
  },
  {
   "cell_type": "code",
   "execution_count": null,
   "id": "2fa53637-3f30-4d37-b9c9-f9ac2b6ec74d",
   "metadata": {},
   "outputs": [],
   "source": []
  }
 ],
 "metadata": {
  "kernelspec": {
   "display_name": "Python 3 (ipykernel)",
   "language": "python",
   "name": "python3"
  },
  "language_info": {
   "codemirror_mode": {
    "name": "ipython",
    "version": 3
   },
   "file_extension": ".py",
   "mimetype": "text/x-python",
   "name": "python",
   "nbconvert_exporter": "python",
   "pygments_lexer": "ipython3",
   "version": "3.10.11"
  }
 },
 "nbformat": 4,
 "nbformat_minor": 5
}
