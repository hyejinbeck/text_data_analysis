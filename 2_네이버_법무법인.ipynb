{
 "cells": [
  {
   "cell_type": "code",
   "execution_count": 2,
   "id": "d4589f93-afa3-4ded-93a9-703cc36a9fe7",
   "metadata": {},
   "outputs": [],
   "source": [
    "# 셋팅 \n",
    "\n",
    "import pandas as pd\n",
    "\n",
    "# !pip install selenium          # selenium 라이브러리 설치\n",
    "from selenium import webdriver\n",
    "from selenium.webdriver.chrome.service import Service\n",
    "from selenium.webdriver.common.keys import Keys\n",
    "from selenium.webdriver.common.by import By\n",
    "from tqdm.notebook import tqdm\n",
    "\n",
    "from bs4 import BeautifulSoup\n",
    "import time\n",
    "\n",
    "import re\n",
    "import warnings\n",
    "warnings.filterwarnings(\"ignore\")\n",
    "\n",
    "url = 'https://search.naver.com/search.naver?ssc=tab.news.all&query=%EB%B2%95%EB%AC%B4%EB%B2%95%EC%9D%B8&sm=tab_opt&sort=0&photo=0&field=0&pd=0&ds=&de=&docid=&related=0&mynews=0&office_type=0&office_section_code=0&news_office_checked=&nso=so%3Ar%2Cp%3Aall&is_sug_officeid=0&office_category=&service_area='"
   ]
  },
  {
   "cell_type": "code",
   "execution_count": 3,
   "id": "b4ecdf56-fdea-42c3-aa6c-dd84a36b274f",
   "metadata": {},
   "outputs": [],
   "source": [
    "# 실행 \n",
    "\n",
    "from selenium.webdriver.chrome.options import Options\n",
    "options = Options()\n",
    "\n",
    "# 사용자 데이터 디렉토리 설정\n",
    "options.add_argument(\"--user-data-dir=/Users/beckhyejin/Library/Application Support/Google/Chrome/data_new0\")\n",
    "options.add_argument(\"--profile-directory=Default\")                                      #         ------- 종종 바꿔줘야 함 \n",
    "\n",
    "# 자동화된 소프트웨어 메시지 비활성화\n",
    "options.add_argument(\"--disable-extensions\")\n",
    "options.add_argument(\"--disable-infobars\")  # \"Chrome이 자동화된 테스트 소프트웨어에 의해 제어되고 있습니다\" 메시지 제거\n",
    "options.add_argument(\"--disable-popup-blocking\")\n",
    "\n",
    "# 서비스 및 드라이버 설정\n",
    "service = Service(executable_path='./chromedriver-mac-arm64/chromedriver')\n",
    "driver = webdriver.Chrome(service=service, options=options)\n",
    "\n",
    "# 페이지 열기\n",
    "driver.get(url.format(1))\n",
    "time.sleep(2) "
   ]
  },
  {
   "cell_type": "code",
   "execution_count": 4,
   "id": "307276cd-dee5-4ef4-aa48-046b0d06ee45",
   "metadata": {},
   "outputs": [],
   "source": [
    "# 파싱 \n",
    "\n",
    "body = driver.find_element(By.CSS_SELECTOR, 'body')\n",
    "for down in range(13):                   # 총 12회 스크롤 내려갑니다. \n",
    "    body.send_keys(Keys.PAGE_DOWN)\n",
    "    time.sleep(0.8)\n",
    "\n",
    "html = driver.page_source\n",
    "soup = BeautifulSoup(html, 'lxml')"
   ]
  },
  {
   "cell_type": "code",
   "execution_count": 17,
   "id": "ab3cac61-1ec4-4be6-a9ab-3a3f167bc024",
   "metadata": {},
   "outputs": [
    {
     "data": {
      "text/plain": [
       "[\"임상시험비 지출 내역 틀리면 징역…제약사들 '비상' [대륜의 Biz law for...\",\n",
       " '서울시약, 법무법인 도시와 법률 자문 MOU',\n",
       " '스틸리언-법무법인 세종, 금융보안·법률자문 역량 맞손']"
      ]
     },
     "execution_count": 17,
     "metadata": {},
     "output_type": "execute_result"
    }
   ],
   "source": [
    "# 제목만 출력해봄\n",
    "\n",
    "news = []\n",
    "\n",
    "#for new in soup.select(\"span.sds-comps-text sds-comps-text-ellipsis-1 sds-comps-text-type-headline1\"): \n",
    "for new in soup.select(\"span.sds-comps-text.sds-comps-text-ellipsis-1.sds-comps-text-type-headline1\"): \n",
    "    news.append(new.text)\n",
    "\n",
    "news[:3]"
   ]
  },
  {
   "cell_type": "code",
   "execution_count": 26,
   "id": "edab878e-809e-4b45-b41b-e34b5fd40a64",
   "metadata": {},
   "outputs": [
    {
     "name": "stdout",
     "output_type": "stream",
     "text": [
      "수집한 기사 url 수 :  50\n",
      "첫 번째 url :\n",
      " <a class=\"lu8Lfh20c9DvvP05mqBf tym_MoKIfC84Aqvg9SKg\" href=\"https://www.hankyung.com/article/202504256325i\" nocr=\"1\" target=\"_blank\"><span class=\"sds-comps-text sds-comps-text-ellipsis-1 sds-comps-text-type-headline1\">임상시험비 지출 내역 틀리면 징역…제약사들 '비상' [대륜의 Biz law for...</span></a>\n"
     ]
    }
   ],
   "source": [
    "# 모든 제품 URL 정보 가져오는 코드 \n",
    "# 태그 정보에서 div:nth-child 이후 경로 가져오기\n",
    "\n",
    "url_soup = soup.select('div.sds-comps-base-layout.sds-comps-full-layout.Xjmc2FydT7OB9hmaylFX > div > a.lu8Lfh20c9DvvP05mqBf.tym_MoKIfC84Aqvg9SKg')\n",
    "\n",
    "lawfirm_urls = []\n",
    "\n",
    "for a in url_soup: \n",
    "    tmp = a.attrs['href']\n",
    "    lawfirm_urls.append(tmp)\n",
    "\n",
    "print(\"수집한 기사 url 수 : \", len(lawfirm_urls))\n",
    "print(\"첫 번째 url :\\n\", url_soup[0])"
   ]
  },
  {
   "cell_type": "code",
   "execution_count": 28,
   "id": "194ed808-f060-44d7-a232-a9ae212d6158",
   "metadata": {},
   "outputs": [
    {
     "data": {
      "text/plain": [
       "['https://www.hankyung.com/article/202504256325i',\n",
       " 'https://www.medipana.com/article/view.php?news_idx=340693&sch_cate=C',\n",
       " 'https://www.newsis.com/view/NISX20250422_0003148224']"
      ]
     },
     "execution_count": 28,
     "metadata": {},
     "output_type": "execute_result"
    }
   ],
   "source": [
    "lawfirm_urls[:3]"
   ]
  },
  {
   "cell_type": "code",
   "execution_count": 29,
   "id": "ce66fdb6-8f8a-41b7-a8ec-b44cedd458c3",
   "metadata": {},
   "outputs": [
    {
     "data": {
      "text/plain": [
       "[\"임상시험비 지출 내역 틀리면 징역…제약사들 '비상' [대륜의 Biz law for...\",\n",
       " '서울시약, 법무법인 도시와 법률 자문 MOU',\n",
       " '스틸리언-법무법인 세종, 금융보안·법률자문 역량 맞손',\n",
       " '검찰, ‘미공개 정보 이용 의혹’ 법무법인 광장 전 직원 구속',\n",
       " '광주 ‘유령 법무법인’ 경찰 수사선상 올라',\n",
       " '법무법인 세움, M&A와 글로벌 투자 세미나 개최',\n",
       " \"'송무 고수' 박재우 변호사, 법무법인 필 공동대표 변호사 합류\",\n",
       " '[로펌 핫스폿] 업계 유일 육·해·공 출신 다 모였다...원, 국방방위산업...',\n",
       " \"'가짜 법무법인' 변호사 증명사진 도용 피해 의심…경찰 수사\",\n",
       " '법무법인 율촌, ‘율촌x온율 공익 페스티벌’ 개최',\n",
       " '법무법인 로앤에이, ‘데이터가 권력인 시대, 법은 어디까지 따라왔나?...',\n",
       " '법무법인 광장, 유엔난민기구 동아프리카 본부장 초청 공익 강연 개최',\n",
       " '[부고] 이병주(법무법인 이우스 변호사)씨 모친상',\n",
       " '법무법인 대륜, 리프레시 휴직제 도입…일·가정 양립 앞장',\n",
       " \"M&A '빅샷' 윤희웅·류명현 변호사, 화우行\",\n",
       " '법무법인 세움, ‘M&A와 글로벌 투자 세미나’ 성료',\n",
       " '광주서 ‘유령 법무법인’ 피해 의심 사례…경찰 수사',\n",
       " '“너 페미냐?” 여성혐오 발언 뒤 폭행… 법무법인 혜석, 이화여대 피해...',\n",
       " '법무법인 태평양, ‘트럼프 관세전쟁 전략’ 세미나 열어',\n",
       " \"법무법인 율촌 개최 'K방산 브리프 세미나·북콘서트' 성료\",\n",
       " '“중국 제품, 韓 시장에 넘쳐날 수도…공급망·탄소세, 규제 더 복잡해...',\n",
       " '법무법인 광장, 작년 법무법인 첫 매출 4000억',\n",
       " '한국지식재산협회·법무법인 바른, 상표·부정경쟁 실무 쟁점 공유',\n",
       " '차액가맹금 소송에 신난 YK법무법인…프랜차이즈 본사 \"우린 달라\"',\n",
       " '최창영 변호사, 세종 합류',\n",
       " \"법무법인 동인, '개인정보 보호·통합보안팀' 발족\",\n",
       " \"법무법인 태평양, 17년 연속 ALB '일하기 좋은 로펌' 선정\",\n",
       " \"법무법인 율촌, 로펌업계 '리걸테크' 선두주자…매년 8% 이상 성장\",\n",
       " '스타트업의 든든한 법률 지원군, 법무법인 디엘지의 성공 비결',\n",
       " '법무법인 세종, 과감한 투자·인재영입…작년 M&A 자문 부문 2위 등극',\n",
       " '법무법인 민후, 개인정보 분야 전문가 박영수 변호사 영입',\n",
       " '[부고] 이병주(법무법인 이우스 변호사)씨 모친상',\n",
       " '[인터뷰] 최효종 법무법인 린 변호사 \"회생은 파산 아닌 경영정상화 과...',\n",
       " '와이케이, 송무·자문분야로 외연 확장…법인 전환 4년 만에 최대 매출',\n",
       " '최영준, 법무법인 무명의 대표 변호사 구영모 [포토엔HD]',\n",
       " \"[단독]'글로벌 리걸테크' 하비도 국내 상륙…세종에 AI 서비스 제공\",\n",
       " '법무법인 지평, 스포츠정책포럼 개최…조직·운영 해법 모색',\n",
       " \"'남편이 비트코인 사뒀다고 했는데'…이혼하면 어떻게 되나 [노종언의 ...\",\n",
       " \"초고령사회에 대비 나선 법무법인 바른…'유언대용신탁'을 아시나요\",\n",
       " '법무법인 린, 아크테라와 손잡고 데이터 컴플라이언스 시장 공략',\n",
       " '법무법인 광장 경영권분쟁팀, SM엔터테인먼트·한미약품 등 굵직한 경영...',\n",
       " 'NH농협은행, 법무법인 센트로와 우수고객 법률자문 협약',\n",
       " '중대·숙대 전 로스쿨 교수 \"대법, \\'이재명 선거법\\' 무조건 \\'유죄\\'로 바...',\n",
       " '[IB토마토](법무법인WM)⑦세종, 상속세연구소 전면에…시장 선도 나선다',\n",
       " '법무법인 세종, 알렉세이 스투카러브 외국변호사 영입',\n",
       " '\"율촌 C&F 세대교체 위한 디딤돌 되겠다\" - 박재현 법무법인 율촌 기업법...',\n",
       " '법무법인 태평양, 통상질서 급변 속 기업 불확실성 대응…최병일·전성...',\n",
       " '법무법인 세종, 알렉세이 스투카러브 러시아 변호사 영입',\n",
       " \"법무법인 화우·MS, 'AI 시대 기업 대비' 세미나 성료\",\n",
       " '이명수 대표변호사 \"기업 실제 수요 맞춘 유연한 \\'프랙티스그룹\\'…금융...']"
      ]
     },
     "execution_count": 29,
     "metadata": {},
     "output_type": "execute_result"
    }
   ],
   "source": [
    "news"
   ]
  },
  {
   "cell_type": "code",
   "execution_count": null,
   "id": "14885ef1-584c-443b-952b-6707aa4660b1",
   "metadata": {},
   "outputs": [],
   "source": []
  }
 ],
 "metadata": {
  "kernelspec": {
   "display_name": "Python 3 (ipykernel)",
   "language": "python",
   "name": "python3"
  },
  "language_info": {
   "codemirror_mode": {
    "name": "ipython",
    "version": 3
   },
   "file_extension": ".py",
   "mimetype": "text/x-python",
   "name": "python",
   "nbconvert_exporter": "python",
   "pygments_lexer": "ipython3",
   "version": "3.10.11"
  }
 },
 "nbformat": 4,
 "nbformat_minor": 5
}
