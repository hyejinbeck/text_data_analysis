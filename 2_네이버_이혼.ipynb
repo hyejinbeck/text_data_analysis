{
 "cells": [
  {
   "cell_type": "code",
   "execution_count": 44,
   "id": "99effa03-5179-4f5f-9a60-5530dc93b3a6",
   "metadata": {},
   "outputs": [],
   "source": [
    "import pandas as pd\n",
    "\n",
    "# !pip install selenium          # selenium 라이브러리 설치\n",
    "from selenium import webdriver\n",
    "from selenium.webdriver.chrome.service import Service\n",
    "from selenium.webdriver.common.keys import Keys\n",
    "from selenium.webdriver.common.by import By\n",
    "from tqdm.notebook import tqdm\n",
    "\n",
    "from bs4 import BeautifulSoup\n",
    "import time\n",
    "\n",
    "import re\n",
    "import warnings\n",
    "warnings.filterwarnings(\"ignore\")\n",
    "\n",
    "url = 'https://m.expert.naver.com/mobile/expert/search?categoryGroup=149&category=90&page={}&keyword=%EC%9D%B4%ED%98%BC&itemType=EXPERT'"
   ]
  },
  {
   "cell_type": "code",
   "execution_count": 46,
   "id": "f4319eef-76dc-41a0-9295-59821de9a690",
   "metadata": {},
   "outputs": [],
   "source": [
    "from selenium.webdriver.chrome.options import Options\n",
    "options = Options()\n",
    "\n",
    "# 사용자 데이터 디렉토리 설정\n",
    "options.add_argument(\"--user-data-dir=/Users/beckhyejin/Library/Application Support/Google/Chrome/data_new_num35\")\n",
    "options.add_argument(\"--profile-directory=Default\")                                      #         ------- 종종 바꿔줘야 함 \n",
    "\n",
    "# 자동화된 소프트웨어 메시지 비활성화\n",
    "options.add_argument(\"--disable-extensions\")\n",
    "options.add_argument(\"--disable-infobars\")  # \"Chrome이 자동화된 테스트 소프트웨어에 의해 제어되고 있습니다\" 메시지 제거\n",
    "options.add_argument(\"--disable-popup-blocking\")\n",
    "\n",
    "# 서비스 및 드라이버 설정\n",
    "service = Service(executable_path='./chromedriver-mac-arm64/chromedriver')\n",
    "driver = webdriver.Chrome(service=service, options=options)\n",
    "\n",
    "# 페이지 열기\n",
    "driver.get(url.format(1))\n",
    "time.sleep(2) \n"
   ]
  },
  {
   "cell_type": "code",
   "execution_count": 47,
   "id": "ae61faf3-c453-4a0f-8c76-c2455862d1fb",
   "metadata": {},
   "outputs": [],
   "source": [
    "body = driver.find_element(By.CSS_SELECTOR, 'body')\n",
    "for down in range(20): \n",
    "    body.send_keys(Keys.PAGE_DOWN)\n",
    "    time.sleep(0.8)\n",
    "\n",
    "html = driver.page_source\n",
    "soup = BeautifulSoup(html, 'lxml')"
   ]
  },
  {
   "cell_type": "code",
   "execution_count": 48,
   "id": "8ae68bc9-f09c-4902-b2bc-5ff0ee1bd251",
   "metadata": {},
   "outputs": [],
   "source": [
    "# 가상의 웹 브라우저에서 화면을 내리는 동작을 함수로 만든다. \n",
    "\n",
    "def page_down(): \n",
    "    \"\"\"페이지 다운키 20번 입력\"\"\"\n",
    "    body = driver.find_element(By.CSS_SELECTOR, 'body') \n",
    "    for down in range(20) : \n",
    "        body.send_keys(Keys.PAGE_DOWN)\n",
    "        time.sleep(0.8)"
   ]
  },
  {
   "cell_type": "code",
   "execution_count": 54,
   "id": "c7283d8e-b148-4ed3-94d3-e559df2483e2",
   "metadata": {},
   "outputs": [
    {
     "data": {
      "text/plain": [
       "['/expert/profile/home?storeId=100048721&u=emLk9fuhf0Ns%252BLp1evvP55nXVxGoaR7nkrIlFua38Ew%253D',\n",
       " '/expert/profile/home?storeId=100047529&u=4IdI%252BE3xKNsYkry%252BVxzCIVaynkRmztEu0csGZgL9iiw%253D',\n",
       " '/expert/profile/home?storeId=100052897&u=eBvtFW3FGSlU1xTUmh4Lb5%252FMWpxWFLR5EXwG%252Fu3ZzGQ%253D']"
      ]
     },
     "execution_count": 54,
     "metadata": {},
     "output_type": "execute_result"
    }
   ],
   "source": [
    "# 변호사 프로필 링크를 찾기 위한 방법 수정\n",
    "lawyers = []\n",
    "for lawyer in soup.select(\"a.itemLink__UgcG3\"):\n",
    "    # span 태그 내의 텍스트가 '프로필 상세보기'인 경우에 해당하는 링크만 선택\n",
    "    if '프로필 상세보기' in lawyer.find('span', class_='blind').text:\n",
    "        lawyers.append(lawyer['href'])\n",
    "\n",
    "# 결과 확인\n",
    "lawyers[:3]"
   ]
  },
  {
   "cell_type": "code",
   "execution_count": null,
   "id": "15c9bc30-1a4b-41d7-98b1-d05440238cc4",
   "metadata": {},
   "outputs": [],
   "source": []
  },
  {
   "cell_type": "code",
   "execution_count": null,
   "id": "9cbd1043-380d-4c89-b2fd-ffd88441eefa",
   "metadata": {},
   "outputs": [],
   "source": []
  },
  {
   "cell_type": "code",
   "execution_count": null,
   "id": "6401edf1-065b-4d26-9459-077e4c261d23",
   "metadata": {},
   "outputs": [],
   "source": []
  },
  {
   "cell_type": "code",
   "execution_count": null,
   "id": "379df68d-cc43-4398-9352-bc3eeae26e3d",
   "metadata": {},
   "outputs": [],
   "source": []
  },
  {
   "cell_type": "code",
   "execution_count": null,
   "id": "a5a23ed1-b8ae-4b70-906a-fe0fac8c0d27",
   "metadata": {},
   "outputs": [],
   "source": []
  },
  {
   "cell_type": "code",
   "execution_count": null,
   "id": "c38b7025-d800-4a80-8c04-c142560f4ccc",
   "metadata": {},
   "outputs": [],
   "source": []
  },
  {
   "cell_type": "code",
   "execution_count": null,
   "id": "38882509-83bc-418d-b76a-6ed19a4b36f7",
   "metadata": {},
   "outputs": [],
   "source": []
  },
  {
   "cell_type": "code",
   "execution_count": null,
   "id": "3c36153c-54b7-4eea-9582-b20f3747ab97",
   "metadata": {},
   "outputs": [],
   "source": []
  },
  {
   "cell_type": "code",
   "execution_count": null,
   "id": "97266699-7e92-484c-a5a9-5f665afb6ebd",
   "metadata": {},
   "outputs": [],
   "source": []
  },
  {
   "cell_type": "code",
   "execution_count": null,
   "id": "2474b8a0-737a-4bda-baef-708066b15f2f",
   "metadata": {},
   "outputs": [],
   "source": []
  },
  {
   "cell_type": "code",
   "execution_count": null,
   "id": "2fa53637-3f30-4d37-b9c9-f9ac2b6ec74d",
   "metadata": {},
   "outputs": [],
   "source": []
  }
 ],
 "metadata": {
  "kernelspec": {
   "display_name": "Python 3 (ipykernel)",
   "language": "python",
   "name": "python3"
  },
  "language_info": {
   "codemirror_mode": {
    "name": "ipython",
    "version": 3
   },
   "file_extension": ".py",
   "mimetype": "text/x-python",
   "name": "python",
   "nbconvert_exporter": "python",
   "pygments_lexer": "ipython3",
   "version": "3.10.11"
  }
 },
 "nbformat": 4,
 "nbformat_minor": 5
}
